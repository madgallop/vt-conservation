{
 "cells": [
  {
   "cell_type": "raw",
   "id": "e1d02611-10d5-4edf-a120-fa6c307b01f8",
   "metadata": {},
   "source": [
    "#  ~~~~~~~~~~~~~~~~~~~~~~~~~~~~~~~~~~~~~~~~~~~~~~~~~~~~~~~~~~~~~~~~~~~~~~~~~~~~~\n",
    "#  name:     simple_landforms.py\n",
    "#  purpose:  Classify landforms from a DEM.\n",
    "#\n",
    "#  author:   Jeff Howarth\n",
    "#  update:   04/07/2023\n",
    "#  license:  Attribution-ShareAlike 4.0 International (CC BY-SA 4.0)\n",
    "#  ~~~~~~~~~~~~~~~~~~~~~~~~~~~~~~~~~~~~~~~~~~~~~~~~~~~~~~~~~~~~~~~~~~~~~~~~~~~~~\n"
   ]
  },
  {
   "cell_type": "code",
   "execution_count": 2,
   "id": "e30a8fb8-122c-4917-a710-5c80b520d2a7",
   "metadata": {},
   "outputs": [],
   "source": [
    "import sys\n",
    "sys.path.insert(1, '/Users/madeleinegallop/Documents/ConnPlanning/wbt_starter')     # path points to my WBT directory\n",
    "from WBT.whitebox_tools import WhiteboxTools\n",
    "\n",
    "# declare a name for the tools\n",
    "\n",
    "wbt = WhiteboxTools()"
   ]
  },
  {
   "cell_type": "code",
   "execution_count": 3,
   "id": "1f8f5e0c-d177-4663-af79-32da17c1f6df",
   "metadata": {},
   "outputs": [],
   "source": [
    "\n",
    "root = \"/Users/madeleinegallop/Documents/ConnPlanning\"\n",
    "\n",
    "# Set up separate directories to store temporary and keeper outputs. \n",
    "\n",
    "temps = root+\"/temps/\"     \n",
    "keeps = root+\"/keeps/\"   \n"
   ]
  },
  {
   "cell_type": "code",
   "execution_count": 1,
   "id": "57034593-42bc-4e8d-8754-7565c3dfec39",
   "metadata": {},
   "outputs": [
    {
     "ename": "NameError",
     "evalue": "name 'root' is not defined",
     "output_type": "error",
     "traceback": [
      "\u001b[0;31m---------------------------------------------------------------------------\u001b[0m",
      "\u001b[0;31mNameError\u001b[0m                                 Traceback (most recent call last)",
      "\u001b[0;32m/var/folders/p4/hn66k4jd3g15t1nydf_g4kjm0000gn/T/ipykernel_98588/3446241895.py\u001b[0m in \u001b[0;36m<module>\u001b[0;34m\u001b[0m\n\u001b[0;32m----> 1\u001b[0;31m \u001b[0mdem\u001b[0m \u001b[0;34m=\u001b[0m\u001b[0mroot\u001b[0m\u001b[0;34m+\u001b[0m\u001b[0;34m\"/inputs/DEM_10m_midd.tif\"\u001b[0m\u001b[0;34m\u001b[0m\u001b[0;34m\u001b[0m\u001b[0m\n\u001b[0m",
      "\u001b[0;31mNameError\u001b[0m: name 'root' is not defined"
     ]
    }
   ],
   "source": [
    "dem =root+\"/inputs/DEM_10m_midd.tif\"  "
   ]
  },
  {
   "cell_type": "code",
   "execution_count": 8,
   "id": "496a8783-8422-453c-b9b4-2928c568195c",
   "metadata": {},
   "outputs": [
    {
     "name": "stdout",
     "output_type": "stream",
     "text": [
      "./whitebox_tools --run=\"Geomorphons\" --dem='/Users/madeleinegallop/Documents/ConnPlanning/inputs/DEM_10m_midd.tif' --output='/Users/madeleinegallop/Documents/ConnPlanning/keeps/_0101_landforms.tif' --search=100 --threshold=0.0 --fdist=0 --skip=0 --forms -v --compress_rasters=False\n",
      "\n",
      "****************************\n",
      "* Welcome to Geomorphons   *\n",
      "* Powered by WhiteboxTools *\n",
      "* www.whiteboxgeo.com      *\n",
      "****************************\n",
      "Reading data...\n",
      "Generating global ternary codes...\n",
      "Computing geomorphons...\n",
      "Progress: 0%\n",
      "Progress: 1%\n",
      "Progress: 2%\n",
      "Progress: 3%\n",
      "Progress: 4%\n",
      "Progress: 5%\n",
      "Progress: 6%\n",
      "Progress: 7%\n",
      "Progress: 8%\n",
      "Progress: 9%\n",
      "Progress: 10%\n",
      "Progress: 11%\n",
      "Progress: 12%\n",
      "Progress: 13%\n",
      "Progress: 14%\n",
      "Progress: 15%\n",
      "Progress: 16%\n",
      "Progress: 17%\n",
      "Progress: 18%\n",
      "Progress: 19%\n",
      "Progress: 20%\n",
      "Progress: 21%\n",
      "Progress: 22%\n",
      "Progress: 23%\n",
      "Progress: 24%\n",
      "Progress: 25%\n",
      "Progress: 26%\n",
      "Progress: 27%\n",
      "Progress: 28%\n",
      "Progress: 29%\n",
      "Progress: 30%\n",
      "Progress: 31%\n",
      "Progress: 32%\n",
      "Progress: 33%\n",
      "Progress: 34%\n",
      "Progress: 35%\n",
      "Progress: 36%\n",
      "Progress: 37%\n",
      "Progress: 38%\n",
      "Progress: 39%\n",
      "Progress: 40%\n",
      "Progress: 41%\n",
      "Progress: 42%\n",
      "Progress: 43%\n",
      "Progress: 44%\n",
      "Progress: 45%\n",
      "Progress: 46%\n",
      "Progress: 47%\n",
      "Progress: 48%\n",
      "Progress: 49%\n",
      "Progress: 50%\n",
      "Progress: 51%\n",
      "Progress: 52%\n",
      "Progress: 53%\n",
      "Progress: 54%\n",
      "Progress: 55%\n",
      "Progress: 56%\n",
      "Progress: 57%\n",
      "Progress: 58%\n",
      "Progress: 59%\n",
      "Progress: 60%\n",
      "Progress: 61%\n",
      "Progress: 62%\n",
      "Progress: 63%\n",
      "Progress: 64%\n",
      "Progress: 65%\n",
      "Progress: 66%\n",
      "Progress: 67%\n",
      "Progress: 68%\n",
      "Progress: 69%\n",
      "Progress: 70%\n",
      "Progress: 71%\n",
      "Progress: 72%\n",
      "Progress: 73%\n",
      "Progress: 74%\n",
      "Progress: 75%\n",
      "Progress: 76%\n",
      "Progress: 77%\n",
      "Progress: 78%\n",
      "Progress: 79%\n",
      "Progress: 80%\n",
      "Progress: 81%\n",
      "Progress: 82%\n",
      "Progress: 83%\n",
      "Progress: 84%\n",
      "Progress: 85%\n",
      "Progress: 86%\n",
      "Progress: 87%\n",
      "Progress: 88%\n",
      "Progress: 89%\n",
      "Progress: 90%\n",
      "Progress: 91%\n",
      "Progress: 92%\n",
      "Progress: 93%\n",
      "Progress: 94%\n",
      "Progress: 95%\n",
      "Progress: 96%\n",
      "Progress: 97%\n",
      "Progress: 98%\n",
      "Progress: 99%\n",
      "Progress: 100%\n",
      "Saving data...\n",
      "Output file written\n",
      "Elapsed Time (excluding I/O): 7.383s\n"
     ]
    },
    {
     "data": {
      "text/plain": [
       "0"
      ]
     },
     "execution_count": 8,
     "metadata": {},
     "output_type": "execute_result"
    }
   ],
   "source": [
    "wbt.geomorphons(\n",
    "    dem = dem, \n",
    "    output = keeps+\"_0101_landforms.tif\", \n",
    "    search=100,  #settled on 100 to give the least noise- trial and error, depends on grain size. 10m runs relativley fast. \n",
    "    threshold=0.0, \n",
    "    fdist=0, \n",
    "    skip=0, \n",
    "    forms=True)"
   ]
  },
  {
   "cell_type": "code",
   "execution_count": null,
   "id": "4bc79a00-e8e2-4c9d-b1db-b5b542c58d24",
   "metadata": {},
   "outputs": [],
   "source": []
  }
 ],
 "metadata": {
  "kernelspec": {
   "display_name": "Python 3 (ipykernel)",
   "language": "python",
   "name": "python3"
  },
  "language_info": {
   "codemirror_mode": {
    "name": "ipython",
    "version": 3
   },
   "file_extension": ".py",
   "mimetype": "text/x-python",
   "name": "python",
   "nbconvert_exporter": "python",
   "pygments_lexer": "ipython3",
   "version": "3.9.13"
  }
 },
 "nbformat": 4,
 "nbformat_minor": 5
}
